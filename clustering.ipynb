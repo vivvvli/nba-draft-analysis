{
 "cells": [
  {
   "cell_type": "code",
   "execution_count": 1,
   "metadata": {},
   "outputs": [],
   "source": [
    "import numpy as np\n",
    "import pandas as pd\n",
    "\n",
    "import matplotlib.pyplot as plt\n",
    "\n",
    "import sklearn\n",
    "from sklearn.cluster import KMeans\n",
    "import sklearn.metrics as sm\n",
    "from sklearn import datasets\n",
    "from sklearn.metrics import confusion_matrix, classification_report"
   ]
  },
  {
   "cell_type": "code",
   "execution_count": 2,
   "metadata": {},
   "outputs": [],
   "source": [
    "%matplotlib inline"
   ]
  },
  {
   "cell_type": "code",
   "execution_count": 3,
   "metadata": {},
   "outputs": [
    {
     "name": "stdout",
     "output_type": "stream",
     "text": [
      "[[11.3  4.3  1.6]\n",
      " [17.   7.6  2.4]\n",
      " [10.   6.7  0.3]]\n"
     ]
    }
   ],
   "source": [
    "from sklearn.preprocessing import scale\n",
    "\n",
    "map = {}\n",
    "xls = pd.ExcelFile('nba_draft.xlsx')\n",
    "for sheet_name in xls.sheet_names:\n",
    "    map[sheet_name] = xls.parse(sheet_name)\n",
    "# variable_names = columns=map['draft_data_2019'].columns\n",
    "df = map['draft_data_2018']\n",
    "# df = df.iloc[:, 4:-4]\n",
    "df = df.iloc[:, 41:-5]\n",
    "\n",
    "data = df.to_numpy()\n",
    "print(data[0:3])"
   ]
  },
  {
   "cell_type": "code",
   "execution_count": 4,
   "metadata": {},
   "outputs": [
    {
     "data": {
      "text/plain": [
       "KMeans(algorithm='auto', copy_x=True, init='k-means++', max_iter=300,\n",
       "    n_clusters=5, n_init=10, n_jobs=None, precompute_distances='auto',\n",
       "    random_state=5, tol=0.0001, verbose=0)"
      ]
     },
     "execution_count": 4,
     "metadata": {},
     "output_type": "execute_result"
    }
   ],
   "source": [
    "clustering  = KMeans(n_clusters=5,random_state=5)\n",
    "clustering.fit(data)"
   ]
  },
  {
   "cell_type": "code",
   "execution_count": 5,
   "metadata": {},
   "outputs": [],
   "source": [
    "player_df = map['draft_data_2018']\n",
    "player_df = player_df.iloc[:, 41:-5]\n",
    "player_df.columns = ['ppg','rpg','apg']\n",
    "# y.columns = ['Targets']"
   ]
  },
  {
   "cell_type": "code",
   "execution_count": 6,
   "metadata": {},
   "outputs": [
    {
     "data": {
      "text/plain": [
       "Text(0.5, 1.0, 'K-Means Classification')"
      ]
     },
     "execution_count": 6,
     "metadata": {},
     "output_type": "execute_result"
    },
    {
     "data": {
      "image/png": "[encoded data removed]",
      "text/plain": [
       "<Figure size 432x288 with 1 Axes>"
      ]
     },
     "metadata": {
      "needs_background": "light"
     },
     "output_type": "display_data"
    }
   ],
   "source": [
    "color_theme = np.array(['darkgray','lightsalmon','powderblue','green', 'purple'])\n",
    "# ground_truth = [3,0,1,2,1,1,0,4,3,2,3,3,1,1,3,1,1,3,3,1,3,1,4,1,2,2,4,3,1,4,2,4,2,3,3,1,3,3,1,2,2,1,3,0,2,0,1,1,1,0,2,4]\n",
    "\n",
    "# plt.subplot(1,2,1)\n",
    "# plt.scatter(x=player_df.rpg,y=player_df.apg,c=color_theme[ground_truth],s=100)\n",
    "# plt.title('Ground Truth Classification')\n",
    "\n",
    "plt.subplot(1,2,2)\n",
    "plt.scatter(x=player_df.rpg,y=player_df.apg,c=color_theme[clustering.labels_],s=100)\n",
    "plt.title('K-Means Classification')"
   ]
  },
  {
   "cell_type": "code",
   "execution_count": null,
   "metadata": {},
   "outputs": [],
   "source": []
  }
 ],
 "metadata": {
  "kernelspec": {
   "display_name": "Python 3",
   "language": "python",
   "name": "python3"
  },
  "language_info": {
   "codemirror_mode": {
    "name": "ipython",
    "version": 3
   },
   "file_extension": ".py",
   "mimetype": "text/x-python",
   "name": "python",
   "nbconvert_exporter": "python",
   "pygments_lexer": "ipython3",
   "version": "3.7.1"
  }
 },
 "nbformat": 4,
 "nbformat_minor": 2
}
