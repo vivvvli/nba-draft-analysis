{
 "cells": [
  {
   "cell_type": "code",
   "execution_count": 1,
   "metadata": {},
   "outputs": [],
   "source": [
    "from urllib.request import urlopen\n",
    "from bs4 import BeautifulSoup\n",
    "import pandas as pd\n",
    "from openpyxl import load_workbook\n"
   ]
  },
  {
   "cell_type": "code",
   "execution_count": 2,
   "metadata": {},
   "outputs": [],
   "source": [
    "# Defining range of draft classes\n",
    "start_year = 2018\n",
    "end_year = 2019\n",
    "\n",
    "writer = pd.ExcelWriter('nba_draft.xlsx', engine='xlsxwriter')\n",
    "\n",
    "# Push data to .csv file\n",
    "for i in range(start_year, end_year + 1):\n",
    "    url = \"https://www.basketball-reference.com/draft/NBA_{}.html\".format(i)\n",
    "    html = urlopen(url)\n",
    "    soup = BeautifulSoup(html)\n",
    "    rows = soup.findAll('tr', limit=2)\n",
    "    headers = [th.getText() for th in rows[1].findAll('th')]\n",
    "    headers = headers[1:]\n",
    "    rows = soup.findAll('tr')[2:]\n",
    "    player_stats = [[td.getText() for td in rows[i].findAll('td')]\n",
    "        for i in range(len(rows))]\n",
    "    stats = pd.DataFrame(player_stats, columns = headers)\n",
    "    data = stats.head(60)\n",
    "    stats.to_excel(writer, sheet_name='draft_data_{}'.format(i), index = False)\n",
    "writer.save()"
   ]
  }
 ],
 "metadata": {
  "kernelspec": {
   "display_name": "Python 3",
   "language": "python",
   "name": "python3"
  },
  "language_info": {
   "codemirror_mode": {
    "name": "ipython",
    "version": 3
   },
   "file_extension": ".py",
   "mimetype": "text/x-python",
   "name": "python",
   "nbconvert_exporter": "python",
   "pygments_lexer": "ipython3",
   "version": "3.7.1"
  }
 },
 "nbformat": 4,
 "nbformat_minor": 2
}
